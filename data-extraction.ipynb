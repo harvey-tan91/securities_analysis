{
 "metadata": {
  "language_info": {
   "codemirror_mode": {
    "name": "ipython",
    "version": 3
   },
   "file_extension": ".py",
   "mimetype": "text/x-python",
   "name": "python",
   "nbconvert_exporter": "python",
   "pygments_lexer": "ipython3",
   "version": "3.8.3"
  },
  "orig_nbformat": 2,
  "kernelspec": {
   "name": "python3",
   "display_name": "Python 3.8.3 64-bit ('base': conda)"
  },
  "interpreter": {
   "hash": "32328ac1cb0e6d2bb432cee35df4a3325269901c33127e1edfe10c7ce9cbd3c6"
  }
 },
 "nbformat": 4,
 "nbformat_minor": 2,
 "cells": [
  {
   "cell_type": "code",
   "execution_count": 8,
   "source": [
    "import pandas as pd\r\n",
    "import os\r\n",
    "import glob\r\n",
    "import datetime\r\n",
    "import requests\r\n",
    "import csv\r\n",
    "import time\r\n"
   ],
   "outputs": [],
   "metadata": {}
  },
  {
   "cell_type": "code",
   "execution_count": 2,
   "source": [
    "os.chdir(r'C:\\Users\\tanzh\\OneDrive\\Git Folder\\securities_analysis\\input folder for PBI dashboard')\r\n",
    "#files = glob.glob(r'C:\\Users\\tanzh\\OneDrive\\Git Folder\\securities_analysis\\input folder for PBI dashboard\\*')\r\n",
    "\r\n",
    "#[os.remove(f) for f in files]"
   ],
   "outputs": [],
   "metadata": {}
  },
  {
   "cell_type": "code",
   "execution_count": 7,
   "source": [
    "tickers = ['LINK-USD', 'ETH-USD', 'BNB-USD', 'BTC-USD', 'DOGE-USD', 'VTI', \r\n",
    "            'QQQ', 'VGT', 'XTR.TO', \"CFA.SI\", \r\n",
    "            \"0823.HK\", \"3010.HK\", \"2801.HK\", \"QYLD\", \"SPY\"]"
   ],
   "outputs": [],
   "metadata": {}
  },
  {
   "cell_type": "code",
   "execution_count": 11,
   "source": [
    "# api key = ORGTGM1EDX89OG7Q\r\n",
    "# 5 api call per minute\r\n",
    "\r\n",
    "#vt\r\n",
    "vt_daily_url = 'https://www.alphavantage.co/query?function=TIME_SERIES_DAILY_ADJUSTED&symbol=VT&datatype=csv&outputsize=full&apikey=ORGTGM1EDX89OG7Q'\r\n",
    "vt_daily_url_request = requests.get(vt_daily_url)\r\n",
    "\r\n",
    "#vti\r\n",
    "vti_daily_url = 'https://www.alphavantage.co/query?function=TIME_SERIES_DAILY_ADJUSTED&symbol=VTI&datatype=csv&outputsize=full&apikey=ORGTGM1EDX89OG7Q'\r\n",
    "vti_daily_url_request = requests.get(vti_daily_url)\r\n",
    "\r\n",
    "#spy\r\n",
    "spy_daily_url = 'https://www.alphavantage.co/query?function=TIME_SERIES_DAILY_ADJUSTED&symbol=SPY&datatype=csv&outputsize=full&apikey=ORGTGM1EDX89OG7Q'\r\n",
    "spy_daily_url_request = requests.get(spy_daily_url)\r\n",
    "\r\n",
    "#qqq\r\n",
    "qqq_daily_url = 'https://www.alphavantage.co/query?function=TIME_SERIES_DAILY_ADJUSTED&symbol=QQQ&datatype=csv&outputsize=full&apikey=ORGTGM1EDX89OG7Q'\r\n",
    "qqq_daily_url_request = requests.get(qqq_daily_url)\r\n",
    "\r\n",
    "#vgt\r\n",
    "vgt_daily_url = 'https://www.alphavantage.co/query?function=TIME_SERIES_DAILY_ADJUSTED&symbol=VGT&datatype=csv&outputsize=full&apikey=ORGTGM1EDX89OG7Q'\r\n",
    "vgt_daily_url_request = requests.get(vgt_daily_url)\r\n",
    "\r\n",
    "time.sleep(60)\r\n",
    "\r\n",
    "#upro\r\n",
    "upro_daily_url = 'https://www.alphavantage.co/query?function=TIME_SERIES_DAILY_ADJUSTED&symbol=UPRO&datatype=csv&outputsize=full&apikey=ORGTGM1EDX89OG7Q'\r\n",
    "upro_daily_url_request = requests.get(upro_daily_url)\r\n",
    "\r\n",
    "#tqqq\r\n",
    "tqqq_daily_url = 'https://www.alphavantage.co/query?function=TIME_SERIES_DAILY_ADJUSTED&symbol=TQQQ&datatype=csv&outputsize=full&apikey=ORGTGM1EDX89OG7Q'\r\n",
    "tqqq_daily_url_request = requests.get(tqqq_daily_url)\r\n"
   ],
   "outputs": [],
   "metadata": {}
  },
  {
   "cell_type": "code",
   "execution_count": 21,
   "source": [
    "with open('vt.csv', 'w') as file:\r\n",
    "    file.write(vt_daily_url_request.text)\r\n",
    "\r\n",
    "with open('vti.csv', 'w') as file:\r\n",
    "    file.write(vti_daily_url_request.text)\r\n",
    "\r\n",
    "with open('spy.csv', 'w') as file:\r\n",
    "    file.write(spy_daily_url_request.text)\r\n",
    "\r\n",
    "with open('qqq.csv', 'w') as file:\r\n",
    "    file.write(qqq_daily_url_request.text)\r\n",
    "\r\n",
    "with open('vgt.csv', 'w') as file:\r\n",
    "    file.write(vgt_daily_url_request.text)\r\n",
    "\r\n",
    "##########\r\n",
    "\r\n",
    "with open('upro.csv', 'w') as file:\r\n",
    "    file.write(upro_daily_url_request.text)\r\n",
    "\r\n",
    "with open('tqqq.csv', 'w') as file:\r\n",
    "    file.write(tqqq_daily_url_request.text)\r\n"
   ],
   "outputs": [],
   "metadata": {}
  },
  {
   "cell_type": "code",
   "execution_count": null,
   "source": [],
   "outputs": [],
   "metadata": {}
  },
  {
   "cell_type": "code",
   "execution_count": null,
   "source": [],
   "outputs": [],
   "metadata": {}
  },
  {
   "cell_type": "code",
   "execution_count": null,
   "source": [],
   "outputs": [],
   "metadata": {}
  },
  {
   "cell_type": "code",
   "execution_count": null,
   "source": [],
   "outputs": [],
   "metadata": {}
  },
  {
   "cell_type": "code",
   "execution_count": null,
   "source": [],
   "outputs": [],
   "metadata": {}
  },
  {
   "cell_type": "code",
   "execution_count": null,
   "source": [],
   "outputs": [],
   "metadata": {}
  },
  {
   "cell_type": "code",
   "execution_count": null,
   "source": [],
   "outputs": [],
   "metadata": {}
  },
  {
   "cell_type": "code",
   "execution_count": null,
   "source": [],
   "outputs": [],
   "metadata": {}
  },
  {
   "cell_type": "code",
   "execution_count": null,
   "source": [],
   "outputs": [],
   "metadata": {}
  },
  {
   "cell_type": "code",
   "execution_count": null,
   "source": [],
   "outputs": [],
   "metadata": {}
  },
  {
   "cell_type": "code",
   "execution_count": null,
   "source": [],
   "outputs": [],
   "metadata": {}
  },
  {
   "cell_type": "code",
   "execution_count": null,
   "source": [],
   "outputs": [],
   "metadata": {}
  },
  {
   "cell_type": "code",
   "execution_count": null,
   "source": [],
   "outputs": [],
   "metadata": {}
  },
  {
   "cell_type": "code",
   "execution_count": null,
   "source": [],
   "outputs": [],
   "metadata": {}
  },
  {
   "cell_type": "code",
   "execution_count": null,
   "source": [],
   "outputs": [],
   "metadata": {}
  },
  {
   "cell_type": "code",
   "execution_count": null,
   "source": [],
   "outputs": [],
   "metadata": {}
  },
  {
   "cell_type": "code",
   "execution_count": null,
   "source": [],
   "outputs": [],
   "metadata": {}
  },
  {
   "cell_type": "code",
   "execution_count": null,
   "source": [],
   "outputs": [],
   "metadata": {}
  },
  {
   "cell_type": "code",
   "execution_count": null,
   "source": [],
   "outputs": [],
   "metadata": {}
  },
  {
   "cell_type": "code",
   "execution_count": null,
   "source": [],
   "outputs": [],
   "metadata": {}
  },
  {
   "cell_type": "code",
   "execution_count": null,
   "source": [],
   "outputs": [],
   "metadata": {}
  },
  {
   "cell_type": "code",
   "execution_count": null,
   "source": [],
   "outputs": [],
   "metadata": {}
  },
  {
   "cell_type": "code",
   "execution_count": null,
   "source": [],
   "outputs": [],
   "metadata": {}
  },
  {
   "cell_type": "code",
   "execution_count": null,
   "source": [],
   "outputs": [],
   "metadata": {}
  },
  {
   "cell_type": "code",
   "execution_count": null,
   "source": [],
   "outputs": [],
   "metadata": {}
  },
  {
   "cell_type": "code",
   "execution_count": null,
   "source": [],
   "outputs": [],
   "metadata": {}
  },
  {
   "cell_type": "code",
   "execution_count": null,
   "source": [],
   "outputs": [],
   "metadata": {}
  },
  {
   "cell_type": "code",
   "execution_count": null,
   "source": [],
   "outputs": [],
   "metadata": {}
  },
  {
   "cell_type": "code",
   "execution_count": null,
   "source": [],
   "outputs": [],
   "metadata": {}
  }
 ]
}